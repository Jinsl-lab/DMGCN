{
 "cells": [
  {
   "cell_type": "code",
   "execution_count": 1,
   "id": "d5d655fc-941a-48af-bf17-32b6c6b421a3",
   "metadata": {},
   "outputs": [
    {
     "name": "stderr",
     "output_type": "stream",
     "text": [
      "/root/miniconda3/lib/python3.8/site-packages/tqdm/auto.py:21: TqdmWarning: IProgress not found. Please update jupyter and ipywidgets. See https://ipywidgets.readthedocs.io/en/stable/user_install.html\n",
      "  from .autonotebook import tqdm as notebook_tqdm\n"
     ]
    },
    {
     "name": "stdout",
     "output_type": "stream",
     "text": [
      "151507\n"
     ]
    },
    {
     "name": "stderr",
     "output_type": "stream",
     "text": [
      "/root/miniconda3/lib/python3.8/site-packages/anndata/_core/anndata.py:1840: UserWarning: Variable names are not unique. To make them unique, call `.var_names_make_unique`.\n",
      "  utils.warn_names_duplicates(\"var\")\n",
      "/root/miniconda3/lib/python3.8/site-packages/anndata/_core/anndata.py:1840: UserWarning: Variable names are not unique. To make them unique, call `.var_names_make_unique`.\n",
      "  utils.warn_names_duplicates(\"var\")\n"
     ]
    },
    {
     "name": "stdout",
     "output_type": "stream",
     "text": [
      "start select HVGs\n",
      "start features construct graph\n",
      "The graph contains 243063 edges, 4221 cells.\n",
      "57.5842 neighbors per cell on average.\n",
      "saving\n",
      "done\n",
      "\n",
      "151508\n"
     ]
    },
    {
     "name": "stderr",
     "output_type": "stream",
     "text": [
      "/root/miniconda3/lib/python3.8/site-packages/anndata/_core/anndata.py:1840: UserWarning: Variable names are not unique. To make them unique, call `.var_names_make_unique`.\n",
      "  utils.warn_names_duplicates(\"var\")\n",
      "/root/miniconda3/lib/python3.8/site-packages/anndata/_core/anndata.py:1840: UserWarning: Variable names are not unique. To make them unique, call `.var_names_make_unique`.\n",
      "  utils.warn_names_duplicates(\"var\")\n"
     ]
    },
    {
     "name": "stdout",
     "output_type": "stream",
     "text": [
      "start select HVGs\n",
      "start features construct graph\n",
      "The graph contains 252209 edges, 4381 cells.\n",
      "57.5688 neighbors per cell on average.\n",
      "saving\n",
      "done\n",
      "\n",
      "151509\n"
     ]
    },
    {
     "name": "stderr",
     "output_type": "stream",
     "text": [
      "/root/miniconda3/lib/python3.8/site-packages/anndata/_core/anndata.py:1840: UserWarning: Variable names are not unique. To make them unique, call `.var_names_make_unique`.\n",
      "  utils.warn_names_duplicates(\"var\")\n",
      "/root/miniconda3/lib/python3.8/site-packages/anndata/_core/anndata.py:1840: UserWarning: Variable names are not unique. To make them unique, call `.var_names_make_unique`.\n",
      "  utils.warn_names_duplicates(\"var\")\n"
     ]
    },
    {
     "name": "stdout",
     "output_type": "stream",
     "text": [
      "start select HVGs\n",
      "start features construct graph\n",
      "The graph contains 276920 edges, 4788 cells.\n",
      "57.8363 neighbors per cell on average.\n",
      "saving\n",
      "done\n",
      "\n",
      "151510\n"
     ]
    },
    {
     "name": "stderr",
     "output_type": "stream",
     "text": [
      "/root/miniconda3/lib/python3.8/site-packages/anndata/_core/anndata.py:1840: UserWarning: Variable names are not unique. To make them unique, call `.var_names_make_unique`.\n",
      "  utils.warn_names_duplicates(\"var\")\n",
      "/root/miniconda3/lib/python3.8/site-packages/anndata/_core/anndata.py:1840: UserWarning: Variable names are not unique. To make them unique, call `.var_names_make_unique`.\n",
      "  utils.warn_names_duplicates(\"var\")\n"
     ]
    },
    {
     "name": "stdout",
     "output_type": "stream",
     "text": [
      "start select HVGs\n",
      "start features construct graph\n",
      "The graph contains 265275 edges, 4595 cells.\n",
      "57.7312 neighbors per cell on average.\n",
      "saving\n",
      "done\n",
      "\n",
      "151669\n"
     ]
    },
    {
     "name": "stderr",
     "output_type": "stream",
     "text": [
      "/root/miniconda3/lib/python3.8/site-packages/anndata/_core/anndata.py:1840: UserWarning: Variable names are not unique. To make them unique, call `.var_names_make_unique`.\n",
      "  utils.warn_names_duplicates(\"var\")\n",
      "/root/miniconda3/lib/python3.8/site-packages/anndata/_core/anndata.py:1840: UserWarning: Variable names are not unique. To make them unique, call `.var_names_make_unique`.\n",
      "  utils.warn_names_duplicates(\"var\")\n"
     ]
    },
    {
     "name": "stdout",
     "output_type": "stream",
     "text": [
      "start select HVGs\n",
      "start features construct graph\n",
      "The graph contains 206026 edges, 3636 cells.\n",
      "56.6628 neighbors per cell on average.\n",
      "saving\n",
      "done\n",
      "\n",
      "151670\n"
     ]
    },
    {
     "name": "stderr",
     "output_type": "stream",
     "text": [
      "/root/miniconda3/lib/python3.8/site-packages/anndata/_core/anndata.py:1840: UserWarning: Variable names are not unique. To make them unique, call `.var_names_make_unique`.\n",
      "  utils.warn_names_duplicates(\"var\")\n",
      "/root/miniconda3/lib/python3.8/site-packages/anndata/_core/anndata.py:1840: UserWarning: Variable names are not unique. To make them unique, call `.var_names_make_unique`.\n",
      "  utils.warn_names_duplicates(\"var\")\n"
     ]
    },
    {
     "name": "stdout",
     "output_type": "stream",
     "text": [
      "start select HVGs\n",
      "start features construct graph\n",
      "The graph contains 198488 edges, 3484 cells.\n",
      "56.9713 neighbors per cell on average.\n",
      "saving\n",
      "done\n",
      "\n",
      "151671\n"
     ]
    },
    {
     "name": "stderr",
     "output_type": "stream",
     "text": [
      "/root/miniconda3/lib/python3.8/site-packages/anndata/_core/anndata.py:1840: UserWarning: Variable names are not unique. To make them unique, call `.var_names_make_unique`.\n",
      "  utils.warn_names_duplicates(\"var\")\n",
      "/root/miniconda3/lib/python3.8/site-packages/anndata/_core/anndata.py:1840: UserWarning: Variable names are not unique. To make them unique, call `.var_names_make_unique`.\n",
      "  utils.warn_names_duplicates(\"var\")\n"
     ]
    },
    {
     "name": "stdout",
     "output_type": "stream",
     "text": [
      "start select HVGs\n",
      "start features construct graph\n",
      "The graph contains 234933 edges, 4093 cells.\n",
      "57.3987 neighbors per cell on average.\n",
      "saving\n",
      "done\n",
      "\n",
      "151672\n"
     ]
    },
    {
     "name": "stderr",
     "output_type": "stream",
     "text": [
      "/root/miniconda3/lib/python3.8/site-packages/anndata/_core/anndata.py:1840: UserWarning: Variable names are not unique. To make them unique, call `.var_names_make_unique`.\n",
      "  utils.warn_names_duplicates(\"var\")\n",
      "/root/miniconda3/lib/python3.8/site-packages/anndata/_core/anndata.py:1840: UserWarning: Variable names are not unique. To make them unique, call `.var_names_make_unique`.\n",
      "  utils.warn_names_duplicates(\"var\")\n"
     ]
    },
    {
     "name": "stdout",
     "output_type": "stream",
     "text": [
      "start select HVGs\n",
      "start features construct graph\n",
      "The graph contains 222830 edges, 3888 cells.\n",
      "57.3122 neighbors per cell on average.\n",
      "saving\n",
      "done\n",
      "\n",
      "151673\n"
     ]
    },
    {
     "name": "stderr",
     "output_type": "stream",
     "text": [
      "/root/miniconda3/lib/python3.8/site-packages/anndata/_core/anndata.py:1840: UserWarning: Variable names are not unique. To make them unique, call `.var_names_make_unique`.\n",
      "  utils.warn_names_duplicates(\"var\")\n",
      "/root/miniconda3/lib/python3.8/site-packages/anndata/_core/anndata.py:1840: UserWarning: Variable names are not unique. To make them unique, call `.var_names_make_unique`.\n",
      "  utils.warn_names_duplicates(\"var\")\n"
     ]
    },
    {
     "name": "stdout",
     "output_type": "stream",
     "text": [
      "start select HVGs\n",
      "start features construct graph\n",
      "The graph contains 205255 edges, 3611 cells.\n",
      "56.8416 neighbors per cell on average.\n",
      "saving\n",
      "done\n",
      "\n",
      "151674\n"
     ]
    },
    {
     "name": "stderr",
     "output_type": "stream",
     "text": [
      "/root/miniconda3/lib/python3.8/site-packages/anndata/_core/anndata.py:1840: UserWarning: Variable names are not unique. To make them unique, call `.var_names_make_unique`.\n",
      "  utils.warn_names_duplicates(\"var\")\n",
      "/root/miniconda3/lib/python3.8/site-packages/anndata/_core/anndata.py:1840: UserWarning: Variable names are not unique. To make them unique, call `.var_names_make_unique`.\n",
      "  utils.warn_names_duplicates(\"var\")\n"
     ]
    },
    {
     "name": "stdout",
     "output_type": "stream",
     "text": [
      "start select HVGs\n",
      "start features construct graph\n",
      "The graph contains 206205 edges, 3635 cells.\n",
      "56.7276 neighbors per cell on average.\n",
      "saving\n",
      "done\n",
      "\n",
      "151675\n"
     ]
    },
    {
     "name": "stderr",
     "output_type": "stream",
     "text": [
      "/root/miniconda3/lib/python3.8/site-packages/anndata/_core/anndata.py:1840: UserWarning: Variable names are not unique. To make them unique, call `.var_names_make_unique`.\n",
      "  utils.warn_names_duplicates(\"var\")\n",
      "/root/miniconda3/lib/python3.8/site-packages/anndata/_core/anndata.py:1840: UserWarning: Variable names are not unique. To make them unique, call `.var_names_make_unique`.\n",
      "  utils.warn_names_duplicates(\"var\")\n"
     ]
    },
    {
     "name": "stdout",
     "output_type": "stream",
     "text": [
      "start select HVGs\n",
      "start features construct graph\n",
      "The graph contains 201112 edges, 3566 cells.\n",
      "56.3971 neighbors per cell on average.\n",
      "saving\n",
      "done\n",
      "\n",
      "151676\n"
     ]
    },
    {
     "name": "stderr",
     "output_type": "stream",
     "text": [
      "/root/miniconda3/lib/python3.8/site-packages/anndata/_core/anndata.py:1840: UserWarning: Variable names are not unique. To make them unique, call `.var_names_make_unique`.\n",
      "  utils.warn_names_duplicates(\"var\")\n",
      "/root/miniconda3/lib/python3.8/site-packages/anndata/_core/anndata.py:1840: UserWarning: Variable names are not unique. To make them unique, call `.var_names_make_unique`.\n",
      "  utils.warn_names_duplicates(\"var\")\n"
     ]
    },
    {
     "name": "stdout",
     "output_type": "stream",
     "text": [
      "start select HVGs\n",
      "start features construct graph\n",
      "The graph contains 194279 edges, 3431 cells.\n",
      "56.6246 neighbors per cell on average.\n",
      "saving\n",
      "done\n",
      "\n"
     ]
    }
   ],
   "source": [
    "import os\n",
    "import argparse\n",
    "import anndata as ad\n",
    "import numpy as np\n",
    "import pandas as pd\n",
    "import scanpy as sc\n",
    "from config import Config\n",
    "from utils import *\n",
    "\n",
    "\n",
    "def load_ST_file(dataset, highly_genes, k, radius):\n",
    "    path = \"../DLPFC/\" + dataset + \"/\" # data path\n",
    "    labels_path = path + \"metadata.tsv\" # the meta of your data\n",
    "\n",
    "    labels = pd.read_table(labels_path, sep='\\t')\n",
    "    labels = labels[\"layer_guess_reordered\"].copy()\n",
    "    NA_labels = np.where(labels.isnull())\n",
    "    labels = labels.drop(labels.index[NA_labels])\n",
    "    ground = labels.copy()\n",
    "    ground.replace('WM', '0', inplace=True)\n",
    "    ground.replace('Layer1', '1', inplace=True)\n",
    "    ground.replace('Layer2', '2', inplace=True)\n",
    "    ground.replace('Layer3', '3', inplace=True)\n",
    "    ground.replace('Layer4', '4', inplace=True)\n",
    "    ground.replace('Layer5', '5', inplace=True)\n",
    "    ground.replace('Layer6', '6', inplace=True)\n",
    "\n",
    "    adata_h5 = sc.read_visium(path, count_file='filtered_feature_bc_matrix.h5', load_images=True) # read the data\n",
    "    adata_h5.var_names_make_unique()\n",
    "    obs_names = np.array(adata_h5.obs.index)\n",
    "    positions = adata_h5.obsm['spatial']\n",
    "\n",
    "    data = np.delete(adata_h5.X.toarray(), NA_labels, axis=0)\n",
    "    obs_names = np.delete(obs_names, NA_labels, axis=0)\n",
    "    positions = np.delete(positions, NA_labels, axis=0)\n",
    "\n",
    "    adata = ad.AnnData(pd.DataFrame(data, index=obs_names, columns=np.array(adata_h5.var.index), dtype=np.float32))\n",
    "\n",
    "    adata.var_names_make_unique()\n",
    "    adata.obs['ground_truth'] = labels\n",
    "    adata.obs['ground'] = ground\n",
    "    adata.obsm['spatial'] = positions\n",
    "    adata.obs['array_row'] = adata_h5.obs['array_row']\n",
    "    adata.obs['array_col'] = adata_h5.obs['array_col']\n",
    "    adata.uns['spatial'] = adata_h5.uns['spatial']\n",
    "    adata.var['gene_ids'] = adata_h5.var['gene_ids']\n",
    "    adata.var['feature_types'] = adata_h5.var['feature_types']\n",
    "    adata.var['genome'] = adata_h5.var['genome']\n",
    "    adata.var_names_make_unique()\n",
    "    adata = normalize(adata, highly_genes=highly_genes)\n",
    "    fadj = features_construct_graph(adata.X, k=k)\n",
    "    sadj, graph_nei, graph_neg = spatial_construct_graph1(adata, radius=radius)\n",
    "\n",
    "    nfadj = normalize_sparse_matrix(fadj + sp.eye(fadj.shape[0]))\n",
    "    nsadj = normalize_sparse_matrix(sadj + sp.eye(sadj.shape[0]))\n",
    "    adata.obsm[\"fadj\"] = nfadj\n",
    "    adata.obsm[\"sadj\"] = nsadj\n",
    "    adata.obsm[\"graph_nei\"] = graph_nei.numpy()\n",
    "    adata.obsm[\"graph_neg\"] = graph_neg.numpy()\n",
    "    adata.var_names_make_unique()\n",
    "    return adata\n",
    "\n",
    "\n",
    "if __name__ == \"__main__\":\n",
    "    parse = argparse.ArgumentParser()\n",
    "    os.environ[\"CUDA_VISIBLE_DEVICES\"] = \"0\"\n",
    "    datasets = ['151507', '151508', '151509', '151510', '151669', '151670',\n",
    "                '151671', '151672', '151673', '151674', '151675', '151676']\n",
    "    for i in range(len(datasets)):\n",
    "        dataset = datasets[i]\n",
    "        print(dataset)\n",
    "        if not os.path.exists(\"../generate_data/\"):\n",
    "            os.mkdir(\"../generate_data/\")\n",
    "        savepath = \"../generate_data/\" + dataset + \"/\"\n",
    "        config_file = '../ini/DLPFC.ini'\n",
    "        if not os.path.exists(savepath):\n",
    "            os.mkdir(savepath)\n",
    "\n",
    "        config = Config(config_file)\n",
    "        adata = load_ST_file(dataset, config.fdim, config.k, config.radius)\n",
    "        print(\"saving\")\n",
    "        adata.write(savepath + 'DMGCN.h5ad')\n",
    "        print(\"done\\n\")\n"
   ]
  }
 ],
 "metadata": {
  "kernelspec": {
   "display_name": "Python 3 (ipykernel)",
   "language": "python",
   "name": "python3"
  },
  "language_info": {
   "codemirror_mode": {
    "name": "ipython",
    "version": 3
   },
   "file_extension": ".py",
   "mimetype": "text/x-python",
   "name": "python",
   "nbconvert_exporter": "python",
   "pygments_lexer": "ipython3",
   "version": "3.8.18"
  }
 },
 "nbformat": 4,
 "nbformat_minor": 5
}
